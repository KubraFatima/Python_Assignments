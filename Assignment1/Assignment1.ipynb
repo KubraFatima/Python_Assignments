{
 "cells": [
  {
   "cell_type": "code",
   "execution_count": 3,
   "id": "7fd3a8e3",
   "metadata": {},
   "outputs": [
    {
     "name": "stdout",
     "output_type": "stream",
     "text": [
      "Twinkle, twinkle, little star,\n",
      "         How I wonder what you are!\n",
      "                 Up above the world so high,\n",
      "                 Like a diamond in the sky.\n",
      "Twinkle, twinkle, little star,\n",
      "         How I wonder what you are\n"
     ]
    }
   ],
   "source": [
    "print (\"Twinkle, twinkle, little star,\");\n",
    "print (\"         How I wonder what you are!\");\n",
    "print (\"                 Up above the world so high,\");\n",
    "print (\"                 Like a diamond in the sky.\");\n",
    "print (\"Twinkle, twinkle, little star,\");\n",
    "print (\"         How I wonder what you are\");\n",
    "\n"
   ]
  },
  {
   "cell_type": "code",
   "execution_count": 4,
   "id": "9c8b498b",
   "metadata": {},
   "outputs": [
    {
     "name": "stdout",
     "output_type": "stream",
     "text": [
      "Enter radius of the circle: 4\n",
      "50.24\n"
     ]
    }
   ],
   "source": [
    "rad= int(input(\"Enter radius of the circle: \"));\n",
    "area= 3.14*rad*rad;\n",
    "print(area);\n"
   ]
  },
  {
   "cell_type": "code",
   "execution_count": 6,
   "id": "aa90d02a",
   "metadata": {},
   "outputs": [
    {
     "name": "stdout",
     "output_type": "stream",
     "text": [
      "Enter your First Name: Kubra\n",
      "Enter your Last Name: Fatima\n",
      "Fatima Kubra\n"
     ]
    }
   ],
   "source": [
    "fname=input(\"Enter your First Name: \");\n",
    "lname=input(\"Enter your Last Name: \");\n",
    "revname= lname+\" \"+fname;\n",
    "print(revname);\n"
   ]
  },
  {
   "cell_type": "code",
   "execution_count": 7,
   "id": "306e8a60",
   "metadata": {},
   "outputs": [
    {
     "name": "stdout",
     "output_type": "stream",
     "text": [
      "Enter first number: 3\n",
      "Enter second number: 6\n",
      "9\n"
     ]
    }
   ],
   "source": [
    "num1=int(input(\"Enter first number: \"));\n",
    "num2=int(input(\"Enter second number: \"));\n",
    "sum=num1+num2;\n",
    "print(sum);\n",
    "\n"
   ]
  },
  {
   "cell_type": "code",
   "execution_count": 11,
   "id": "371cb062",
   "metadata": {},
   "outputs": [
    {
     "name": "stdout",
     "output_type": "stream",
     "text": [
      "Current Python Version \n",
      "3.9.7 (default, Sep 16 2021, 16:59:28) [MSC v.1916 64 bit (AMD64)]\n"
     ]
    }
   ],
   "source": [
    "import sys\n",
    "print(\"Current Python Version \")\n",
    "print(sys.version);"
   ]
  },
  {
   "cell_type": "code",
   "execution_count": null,
   "id": "8566f4c7",
   "metadata": {},
   "outputs": [],
   "source": [
    "from datetime import datetime\n",
    "date_time=datetime.now();\n",
    "print(\"Date and Time\");\n",
    "print(\" \")"
   ]
  }
 ],
 "metadata": {
  "kernelspec": {
   "display_name": "Python 3 (ipykernel)",
   "language": "python",
   "name": "python3"
  },
  "language_info": {
   "codemirror_mode": {
    "name": "ipython",
    "version": 3
   },
   "file_extension": ".py",
   "mimetype": "text/x-python",
   "name": "python",
   "nbconvert_exporter": "python",
   "pygments_lexer": "ipython3",
   "version": "3.9.7"
  }
 },
 "nbformat": 4,
 "nbformat_minor": 5
}
